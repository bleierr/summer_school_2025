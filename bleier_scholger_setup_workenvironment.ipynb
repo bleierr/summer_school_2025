{
  "cells": [
    {
      "cell_type": "code",
      "execution_count": 12,
      "id": "4533a7fc-14fa-4610-a86f-11e0ce6c7423",
      "metadata": {
        "id": "4533a7fc-14fa-4610-a86f-11e0ce6c7423"
      },
      "outputs": [],
      "source": []
    },
    {
      "cell_type": "code",
      "execution_count": 13,
      "id": "5f565be1-a914-4ac0-b446-cfc714e48151",
      "metadata": {
        "id": "5f565be1-a914-4ac0-b446-cfc714e48151",
        "outputId": "c368c1c5-d6d5-48ab-8115-62c50837186f",
        "colab": {
          "base_uri": "https://localhost:8080/"
        }
      },
      "outputs": [
        {
          "output_type": "stream",
          "name": "stdout",
          "text": [
            "Drive already mounted at /content/drive/; to attempt to forcibly remount, call drive.mount(\"/content/drive/\", force_remount=True).\n"
          ]
        }
      ],
      "source": [
        "# Import Google Drive\n",
        "from google.colab import drive\n",
        "drive.mount('/content/drive/')"
      ]
    },
    {
      "cell_type": "code",
      "execution_count": 14,
      "id": "8217cbf7-634f-495c-9f5a-aeaedd7ec1a5",
      "metadata": {
        "id": "8217cbf7-634f-495c-9f5a-aeaedd7ec1a5",
        "outputId": "4270633b-9418-4c4f-aa8d-cc17f174cb70",
        "colab": {
          "base_uri": "https://localhost:8080/"
        }
      },
      "outputs": [
        {
          "output_type": "stream",
          "name": "stdout",
          "text": [
            "/content/drive/MyDrive\n"
          ]
        }
      ],
      "source": [
        "# Set drive/MyDrive/ ad base working directory\n",
        "%cd /content/drive/MyDrive/"
      ]
    },
    {
      "cell_type": "code",
      "execution_count": 15,
      "id": "f03b6cb5-6b67-42af-a62f-90537157b57a",
      "metadata": {
        "id": "f03b6cb5-6b67-42af-a62f-90537157b57a",
        "outputId": "ceb7b370-c6c4-482e-ca3e-d174a330e998",
        "colab": {
          "base_uri": "https://localhost:8080/"
        }
      },
      "outputs": [
        {
          "output_type": "stream",
          "name": "stdout",
          "text": [
            "fatal: destination path 'summer_school_2025' already exists and is not an empty directory.\n"
          ]
        }
      ],
      "source": [
        "# Clone the summer school github repo\n",
        "!git clone https://github.com/bleierr/summer_school_2025.git"
      ]
    },
    {
      "cell_type": "code",
      "execution_count": 16,
      "id": "23f470bf-fab3-4322-a605-bb547f90a8e2",
      "metadata": {
        "id": "23f470bf-fab3-4322-a605-bb547f90a8e2",
        "outputId": "f124f172-ba7f-422f-b2f8-c8efe5ee2884",
        "colab": {
          "base_uri": "https://localhost:8080/"
        }
      },
      "outputs": [
        {
          "output_type": "stream",
          "name": "stdout",
          "text": [
            "/content/drive/MyDrive/summer_school_2025\n"
          ]
        }
      ],
      "source": [
        "# Set summer_school_2025 working directory\n",
        "%cd summer_school_2025"
      ]
    },
    {
      "cell_type": "code",
      "execution_count": 17,
      "id": "8b6a37e5-9e16-4d30-9396-67b788e16e1d",
      "metadata": {
        "id": "8b6a37e5-9e16-4d30-9396-67b788e16e1d",
        "outputId": "893b54d9-46d6-4fa6-c899-56c9da7803a2",
        "colab": {
          "base_uri": "https://localhost:8080/"
        }
      },
      "outputs": [
        {
          "output_type": "stream",
          "name": "stdout",
          "text": [
            "[Errno 2] No such file or directory: 'ls'\n",
            "/content/drive/MyDrive/summer_school_2025\n"
          ]
        }
      ],
      "source": [
        "# look at the content of the current working directory\n",
        "%cd ls"
      ]
    },
    {
      "cell_type": "code",
      "execution_count": 18,
      "id": "f114f2b1-2e45-40bd-a8e7-e25afd482495",
      "metadata": {
        "id": "f114f2b1-2e45-40bd-a8e7-e25afd482495",
        "outputId": "517fa06b-88a8-458b-a808-2b2c9080cc93",
        "colab": {
          "base_uri": "https://localhost:8080/"
        }
      },
      "outputs": [
        {
          "output_type": "stream",
          "name": "stdout",
          "text": [
            "/content/drive/MyDrive/summer_school_2025\n",
            "Already up to date.\n"
          ]
        }
      ],
      "source": [
        "# pull updates from the school repository\n",
        "%cd /content/drive/MyDrive/summer_school_2025/\n",
        "!git pull"
      ]
    },
    {
      "cell_type": "code",
      "execution_count": 21,
      "id": "3f7c5e10-bd50-4a17-a023-e40215b2ce7a",
      "metadata": {
        "id": "3f7c5e10-bd50-4a17-a023-e40215b2ce7a",
        "outputId": "3ebb8f37-345a-4af5-82e6-21146d7db7cf",
        "colab": {
          "base_uri": "https://localhost:8080/"
        }
      },
      "outputs": [
        {
          "output_type": "stream",
          "name": "stdout",
          "text": [
            "On branch main\n",
            "Your branch is up to date with 'origin/main'.\n",
            "\n",
            "nothing to commit, working tree clean\n"
          ]
        }
      ],
      "source": [
        "!git status"
      ]
    }
  ],
  "metadata": {
    "kernelspec": {
      "display_name": "Python 3 (ipykernel)",
      "language": "python",
      "name": "python3"
    },
    "language_info": {
      "codemirror_mode": {
        "name": "ipython",
        "version": 3
      },
      "file_extension": ".py",
      "mimetype": "text/x-python",
      "name": "python",
      "nbconvert_exporter": "python",
      "pygments_lexer": "ipython3",
      "version": "3.12.7"
    },
    "colab": {
      "provenance": []
    }
  },
  "nbformat": 4,
  "nbformat_minor": 5
}